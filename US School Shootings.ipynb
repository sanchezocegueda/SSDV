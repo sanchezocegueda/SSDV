{
 "cells": [
  {
   "cell_type": "markdown",
   "id": "65d2c211",
   "metadata": {},
   "source": [
    "# Welcome!\n",
    "\n",
    "This is an interactive notebook aimed to help visualize school shooting data.\n",
    "\n",
    "It is meant for educational purposes.\n",
    "\n",
    "If you want to cite the author, please tag @alexso"
   ]
  },
  {
   "cell_type": "code",
   "execution_count": 2,
   "id": "fddbfc47",
   "metadata": {},
   "outputs": [],
   "source": [
    "# Imports\n",
    "import pandas as pd\n",
    "import matplotlib.pyplot as plt\n",
    "import numpy as np\n",
    "import ipywidgets as widgets\n",
    "from ipywidgets import interact"
   ]
  },
  {
   "cell_type": "code",
   "execution_count": 3,
   "id": "ecdceb1b",
   "metadata": {
    "scrolled": true
   },
   "outputs": [],
   "source": [
    "# Loading the required files for the visualization\n",
    "# The data set can be found in the last cell block :D\n",
    "incidents = pd.read_csv(\"Data/SSDB_Incident_Data.csv\")\n",
    "shooters = pd.read_csv(\"Data/SSDB_Shooter_Data.csv\")\n",
    "victims = pd.read_csv(\"Data/SSDB_Victim_Data.csv\")\n",
    "weapons = pd.read_csv(\"Data/SSDB_Weapon_Data.csv\")"
   ]
  },
  {
   "cell_type": "markdown",
   "id": "0c6e61d9",
   "metadata": {},
   "source": [
    "# Part 1: Today (Analysis)\n"
   ]
  },
  {
   "cell_type": "code",
   "execution_count": 32,
   "id": "a3829fec",
   "metadata": {},
   "outputs": [
    {
     "name": "stdout",
     "output_type": "stream",
     "text": [
      "So far, 683 people have died in a school shooting.\n"
     ]
    }
   ],
   "source": [
    "dead_victims = victims[(victims[\"injury\"] == \"Fatal\")]\n",
    "fatalities = dead_victims.shape[0]\n",
    "print(\"So far, %d people have died in a school shooting.\" % (fatalities))"
   ]
  },
  {
   "cell_type": "code",
   "execution_count": 38,
   "id": "17a0fbca",
   "metadata": {},
   "outputs": [
    {
     "name": "stdout",
     "output_type": "stream",
     "text": [
      "Of the 683 recorded fatalities, we know the age of 678. The ages of 5 people are unknown.\n"
     ]
    }
   ],
   "source": [
    "dead_women = dead_victims[(dead_victims[\"gender\"] == \"Female\")]\n",
    "dead_men = dead_victims[(dead_victims[\"gender\"] == \"Male\")]\n",
    "\n",
    "# Filter the missing entries\n",
    "\n",
    "dead_victims_clean = dead_victims[(dead_victims[\"age\"].notna())]\n",
    "dead_ages = dead_victims_clean.shape[0]\n",
    "\n",
    "print(\"Of the %d recorded fatalities, we know the age of %d. The ages of %d people are unknown.\" % (fatalities, dead_ages, (fatalities - dead_ages)))\n",
    "\n"
   ]
  },
  {
   "cell_type": "code",
   "execution_count": 46,
   "id": "8c962bed",
   "metadata": {},
   "outputs": [
    {
     "data": {
      "text/plain": [
       "0       2020-07-27\n",
       "1       2020-07-21\n",
       "2       2020-07-14\n",
       "3       2020-07-04\n",
       "4       2020-07-01\n",
       "           ...    \n",
       "2057    2022-05-29\n",
       "2058    2022-05-30\n",
       "2059    2022-05-31\n",
       "2060    2022-06-01\n",
       "2061    2022-05-25\n",
       "Name: Date, Length: 2062, dtype: object"
      ]
     },
     "execution_count": 46,
     "metadata": {},
     "output_type": "execute_result"
    }
   ],
   "source": [
    "incidents[\"Date\"]"
   ]
  },
  {
   "cell_type": "code",
   "execution_count": null,
   "id": "d2ecd799",
   "metadata": {},
   "outputs": [],
   "source": []
  },
  {
   "cell_type": "markdown",
   "id": "0e15a7d4",
   "metadata": {},
   "source": [
    "# Part 2: Tomorrow (Inference)\n",
    "\n",
    "\n"
   ]
  },
  {
   "cell_type": "code",
   "execution_count": null,
   "id": "67198338",
   "metadata": {},
   "outputs": [],
   "source": []
  },
  {
   "cell_type": "markdown",
   "id": "b90d30e1",
   "metadata": {},
   "source": [
    "# References and acknowledgements\n",
    "\n",
    "I would like to thank you for taking the time to read through this and give your attention to this issue.\n",
    "\n",
    "Thank you to David Reiman, Desmond O'Neill, and Eva Jernegan for creating and maintaining the K-12 School Shooting Database.\n"
   ]
  },
  {
   "cell_type": "code",
   "execution_count": null,
   "id": "4a2584fa",
   "metadata": {},
   "outputs": [],
   "source": []
  }
 ],
 "metadata": {
  "kernelspec": {
   "display_name": "Python 3 (ipykernel)",
   "language": "python",
   "name": "python3"
  },
  "language_info": {
   "codemirror_mode": {
    "name": "ipython",
    "version": 3
   },
   "file_extension": ".py",
   "mimetype": "text/x-python",
   "name": "python",
   "nbconvert_exporter": "python",
   "pygments_lexer": "ipython3",
   "version": "3.9.7"
  }
 },
 "nbformat": 4,
 "nbformat_minor": 5
}
