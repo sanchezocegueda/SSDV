{
 "cells": [
  {
   "cell_type": "markdown",
   "id": "2c88bd3e",
   "metadata": {},
   "source": [
    "# Welcome\n",
    "This is an i"
   ]
  },
  {
   "cell_type": "code",
   "execution_count": 80,
   "id": "fddbfc47",
   "metadata": {},
   "outputs": [],
   "source": [
    "# Imports\n",
    "import pandas as pd\n",
    "import matplotlib.pyplot as plt\n",
    "import numpy as np\n",
    "import ipywidgets as widgets\n",
    "from ipywidgets import interact"
   ]
  },
  {
   "cell_type": "code",
   "execution_count": 68,
   "id": "ecdceb1b",
   "metadata": {
    "scrolled": true
   },
   "outputs": [],
   "source": [
    "# Loading the required files for the visualization\n",
    "# The data set can be found in the last cell block :D\n",
    "incidents = pd.read_csv(\"Data/SSDB_Incident_Data.csv\")\n",
    "shooters = pd.read_csv(\"Data/SSDB_Shooter_Data.csv\")\n",
    "victims = pd.read_csv(\"Data/SSDB_Victim_Data.csv\")\n",
    "weapons = pd.read_csv(\"Data/SSDB_Weapon_Data.csv\")"
   ]
  },
  {
   "cell_type": "markdown",
   "id": "a141ffc6",
   "metadata": {},
   "source": [
    "# Part 1: Today"
   ]
  },
  {
   "cell_type": "code",
   "execution_count": null,
   "id": "33f926e4",
   "metadata": {},
   "outputs": [],
   "source": []
  },
  {
   "cell_type": "markdown",
   "id": "8939c0b5",
   "metadata": {},
   "source": [
    "# Part 2: Tomorrow"
   ]
  },
  {
   "cell_type": "code",
   "execution_count": null,
   "id": "6f5b27eb",
   "metadata": {},
   "outputs": [],
   "source": []
  },
  {
   "cell_type": "markdown",
   "id": "3a246add",
   "metadata": {},
   "source": [
    "# References and acknowledgements\n",
    "\n"
   ]
  },
  {
   "cell_type": "code",
   "execution_count": null,
   "id": "520cae47",
   "metadata": {},
   "outputs": [],
   "source": []
  }
 ],
 "metadata": {
  "kernelspec": {
   "display_name": "Python 3 (ipykernel)",
   "language": "python",
   "name": "python3"
  },
  "language_info": {
   "codemirror_mode": {
    "name": "ipython",
    "version": 3
   },
   "file_extension": ".py",
   "mimetype": "text/x-python",
   "name": "python",
   "nbconvert_exporter": "python",
   "pygments_lexer": "ipython3",
   "version": "3.9.7"
  }
 },
 "nbformat": 4,
 "nbformat_minor": 5
}
